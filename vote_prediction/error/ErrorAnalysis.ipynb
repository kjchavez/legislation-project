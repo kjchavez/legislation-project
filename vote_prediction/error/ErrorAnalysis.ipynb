{
 "cells": [
  {
   "cell_type": "code",
   "execution_count": 25,
   "metadata": {
    "collapsed": false
   },
   "outputs": [],
   "source": [
    "from summary_reader import read_tensors\n",
    "\n",
    "filename = \"../results/dnn-regularized/error_analysis/events.out.tfevents.*\"\n",
    "iterator = read_tensors(filename)\n",
    "\n",
    "x = next(iterator)"
   ]
  },
  {
   "cell_type": "code",
   "execution_count": 31,
   "metadata": {
    "collapsed": false
   },
   "outputs": [
    {
     "name": "stdout",
     "output_type": "stream",
     "text": [
      "[ 4  6  7 15 19 20 22 23 26 31 37 39 49 51 62 64 65 66 70 81 84 85 88 99]\n"
     ]
    },
    {
     "data": {
      "text/html": [
       "<table><tr><th>BillTitle</th><th>is_error</th><th>VoterState</th><th>SponsorParty</th><th>prediction</th><th>label</th><th>VoterParty</th><th>VoterAge</th></tr><tr><td>[  4  13   1 117 203  11  43 113   4   1 117 203 465 134  55   3   1 117\n",
       " 203 359 365  55   3   2   6   7   0   0   0   0   0   0   0   0   0   0\n",
       "   0   0   0   0   0   0   0   0   0   0   0   0   0   0   0   0   0   0\n",
       "   0]</td><td>[False]</td><td>['WA']</td><td>['democrat']</td><td>[ True]</td><td>[0]</td><td>['republican']</td><td>[76]</td></tr><tr><td>[12 10  2  1 23  5 39  2  1  8  9 14 15 16 80  3  2  6  7  0  0  0  0  0  0\n",
       "  0  0  0  0  0  0  0  0  0  0  0  0  0  0  0  0  0  0  0  0  0  0  0  0  0\n",
       "  0  0  0  0  0]</td><td>[False]</td><td>['LA']</td><td>['democrat']</td><td>[False]</td><td>[1]</td><td>['republican']</td><td>[61]</td></tr><tr><td>[   4   13   38 1282   21   19   28    4   18   20  898 1424    4  173    3\n",
       "  472   31   17    1 1419 2226   17    1  750    0    0    0    0    0    0\n",
       "    0    0    0    0    0    0    0    0    0    0    0    0    0    0    0\n",
       "    0    0    0    0    0    0    0    0    0    0]</td><td>[False]</td><td>['NJ']</td><td>['democrat']</td><td>[False]</td><td>[1]</td><td>['republican']</td><td>[47]</td></tr><tr><td>[ 12  10   2 132 230  31 122   3 149  70   3  24  25  33   2   1   8   9\n",
       "  14  15  16 126   3   2   6   7   0   0   0   0   0   0   0   0   0   0\n",
       "   0   0   0   0   0   0   0   0   0   0   0   0   0   0   0   0   0   0\n",
       "   0]</td><td>[False]</td><td>['FL']</td><td>['republican']</td><td>[ True]</td><td>[0]</td><td>['republican']</td><td>[86]</td></tr><tr><td>[   4   18    2   20  681 1754    1    5   20    3    2    1  626    5   20\n",
       "   37  557 1020   51    4  174   29 1397 1395 1754    1  365    5  171    0\n",
       "    0    0    0    0    0    0    0    0    0    0    0    0    0    0    0\n",
       "    0    0    0    0    0    0    0    0    0    0]</td><td>[False]</td><td>['MI']</td><td>['democrat']</td><td>[ True]</td><td>[0]</td><td>['democrat']</td><td>[65]</td></tr><tr><td>[  4  13   1 514 177   3  81  90  11   4  26  20  55   2   4 596   1  70\n",
       "   5 514 177   4 101   1  22 348   5 514  90   3   2   6   7   0   0   0\n",
       "   0   0   0   0   0   0   0   0   0   0   0   0   0   0   0   0   0   0\n",
       "   0]</td><td>[False]</td><td>['CO']</td><td>['republican']</td><td>[False]</td><td>[1]</td><td>['democrat']</td><td>[59]</td></tr><tr><td>[  4  78   1 279 443  11   5  69   0   0   0   0   0   0   0   0   0   0\n",
       "   0   0   0   0   0   0   0   0   0   0   0   0   0   0   0   0   0   0\n",
       "   0   0   0   0   0   0   0   0   0   0   0   0   0   0   0   0   0   0\n",
       "   0]</td><td>[False]</td><td>['NY']</td><td>['UNK']</td><td>[False]</td><td>[1]</td><td>['democrat']</td><td>[66]</td></tr><tr><td>[12 10  2  1 23  5 39  2  1  8  9 14 15 16 80  3  2  6  7  0  0  0  0  0  0\n",
       "  0  0  0  0  0  0  0  0  0  0  0  0  0  0  0  0  0  0  0  0  0  0  0  0  0\n",
       "  0  0  0  0  0]</td><td>[False]</td><td>['CA']</td><td>['democrat']</td><td>[False]</td><td>[1]</td><td>['republican']</td><td>[40]</td></tr><tr><td>[12 10  2  1 23  5 39  2  1  8  9 14 15 16 69  3  2  6  7  0  0  0  0  0  0\n",
       "  0  0  0  0  0  0  0  0  0  0  0  0  0  0  0  0  0  0  0  0  0  0  0  0  0\n",
       "  0  0  0  0  0]</td><td>[False]</td><td>['NJ']</td><td>['republican']</td><td>[ True]</td><td>[0]</td><td>['republican']</td><td>[72]</td></tr><tr><td>[12 92 68 10  2  1  8  9 79  3  2  6  7  0  0  0  0  0  0  0  0  0  0  0  0\n",
       "  0  0  0  0  0  0  0  0  0  0  0  0  0  0  0  0  0  0  0  0  0  0  0  0  0\n",
       "  0  0  0  0  0]</td><td>[False]</td><td>['CA']</td><td>['democrat']</td><td>[ True]</td><td>[0]</td><td>['republican']</td><td>[86]</td></tr><tr><td>[12 92 68 10  2  1  8  9 79  3  2  6  7  0  0  0  0  0  0  0  0  0  0  0  0\n",
       "  0  0  0  0  0  0  0  0  0  0  0  0  0  0  0  0  0  0  0  0  0  0  0  0  0\n",
       "  0  0  0  0  0]</td><td>[False]</td><td>['TX']</td><td>['democrat']</td><td>[ True]</td><td>[0]</td><td>['republican']</td><td>[77]</td></tr><tr><td>[  4  56  20 636  55   2 473  60   0   0   0   0   0   0   0   0   0   0\n",
       "   0   0   0   0   0   0   0   0   0   0   0   0   0   0   0   0   0   0\n",
       "   0   0   0   0   0   0   0   0   0   0   0   0   0   0   0   0   0   0\n",
       "   0]</td><td>[False]</td><td>['CA']</td><td>['republican']</td><td>[False]</td><td>[1]</td><td>['democrat']</td><td>[54]</td></tr><tr><td>[  4  26  10   2   8   9 273   2  34  36   5   1  23   5  39   2  34  59\n",
       "   3   2  39  36   5   1  23   5  42   4 114  34  95 121   2  52   8   9\n",
       "   3   2   6   7   0   0   0   0   0   0   0   0   0   0   0   0   0   0\n",
       "   0]</td><td>[False]</td><td>['MN']</td><td>['republican']</td><td>[ True]</td><td>[0]</td><td>['democrat']</td><td>[63]</td></tr><tr><td>[   4  417   20  290  720    2    1 1834  588  617  880   29  934  204  791\n",
       "  328    3  192  820    3  294  598    3    2    6    7    0    0    0    0\n",
       "    0    0    0    0    0    0    0    0    0    0    0    0    0    0    0\n",
       "    0    0    0    0    0    0    0    0    0    0]</td><td>[False]</td><td>['CA']</td><td>['UNK']</td><td>[False]</td><td>[1]</td><td>['democrat']</td><td>[65]</td></tr><tr><td>[   4  163  545    2   43 1245  223    3 1622   42    0    0    0    0    0\n",
       "    0    0    0    0    0    0    0    0    0    0    0    0    0    0    0\n",
       "    0    0    0    0    0    0    0    0    0    0    0    0    0    0    0\n",
       "    0    0    0    0    0    0    0    0    0    0]</td><td>[False]</td><td>['TX']</td><td>['republican']</td><td>[False]</td><td>[1]</td><td>['democrat']</td><td>[76]</td></tr><tr><td>[  4 945   1 106  96  25   5   1  21  19   4  26  10   2   1  23   5  62\n",
       "   3  24  25   2   8 130  69   3 126   4 198   1 427   5  10   2  21  19\n",
       " 106  90  33   2   8 130  69   3 126   3   2   6   7   0   0   0   0   0\n",
       "   0]</td><td>[False]</td><td>['MO']</td><td>['republican']</td><td>[ True]</td><td>[0]</td><td>['democrat']</td><td>[86]</td></tr><tr><td>[   4   13    1    4   11    5  111    4    1  301    5 1148    4  186  266\n",
       "  115  658  689    0    0    0    0    0    0    0    0    0    0    0    0\n",
       "    0    0    0    0    0    0    0    0    0    0    0    0    0    0    0\n",
       "    0    0    0    0    0    0    0    0    0    0]</td><td>[False]</td><td>['NH']</td><td>['republican']</td><td>[ True]</td><td>[0]</td><td>['republican']</td><td>[65]</td></tr><tr><td>[ 12  10   2   1  53   5 154   3  61   3 127  31   3  24  25   2   1   8\n",
       "   9  14  15  16 120   3   2   6   7   0   0   0   0   0   0   0   0   0\n",
       "   0   0   0   0   0   0   0   0   0   0   0   0   0   0   0   0   0   0\n",
       "   0]</td><td>[False]</td><td>['TX']</td><td>['democrat']</td><td>[ True]</td><td>[0]</td><td>['republican']</td><td>[86]</td></tr><tr><td>[   4  139    1   21   19   61   11    5 1241    1   64   61   55    3    1\n",
       "   55    2   61   90    2  812  211  381    3  135  194  101  394   52   33\n",
       "    3    2    6    7    0    0    0    0    0    0    0    0    0    0    0\n",
       "    0    0    0    0    0    0    0    0    0    0]</td><td>[False]</td><td>['HI']</td><td>['republican']</td><td>[ True]</td><td>[0]</td><td>['democrat']</td><td>[89]</td></tr><tr><td>[  27   11    4   26   20  246   98    3  328  217    2  329   98  346    4\n",
       "    1  931   17    1 1029    1  947   51    5  948    3   78    1   98  731\n",
       "   90   33    0    0    0    0    0    0    0    0    0    0    0    0    0\n",
       "    0    0    0    0    0    0    0    0    0    0]</td><td>[False]</td><td>['AZ']</td><td>['republican']</td><td>[ True]</td><td>[0]</td><td>['democrat']</td><td>[74]</td></tr><tr><td>[  27  213   45    4   18  234    2    1   94    5 1930  255 1095    3    2\n",
       "    6    7    0    0    0    0    0    0    0    0    0    0    0    0    0\n",
       "    0    0    0    0    0    0    0    0    0    0    0    0    0    0    0\n",
       "    0    0    0    0    0    0    0    0    0    0]</td><td>[False]</td><td>['KS']</td><td>['democrat']</td><td>[False]</td><td>[1]</td><td>['republican']</td><td>[84]</td></tr><tr><td>[   4  292    1  107 2012    5    1   37  993   86   55    3    4   18    2\n",
       "   52   55    4  108 1542  205    2 2297 1400   54    3    3    2    6    7\n",
       "    0    0    0    0    0    0    0    0    0    0    0    0    0    0    0\n",
       "    0    0    0    0    0    0    0    0    0    0]</td><td>[False]</td><td>['WA']</td><td>['democrat']</td><td>[ True]</td><td>[0]</td><td>['republican']</td><td>[48]</td></tr><tr><td>[   4  101  361   29   92 1910  957    5  557  499    0    0    0    0    0\n",
       "    0    0    0    0    0    0    0    0    0    0    0    0    0    0    0\n",
       "    0    0    0    0    0    0    0    0    0    0    0    0    0    0    0\n",
       "    0    0    0    0    0    0    0    0    0    0]</td><td>[False]</td><td>['TX']</td><td>['republican']</td><td>[ True]</td><td>[0]</td><td>['republican']</td><td>[69]</td></tr><tr><td>[  20   45    4   44    1 1253    3  200    5    1   23    5   39    2    1\n",
       "  799    5  608  544    3    2    6    7    0    0    0    0    0    0    0\n",
       "    0    0    0    0    0    0    0    0    0    0    0    0    0    0    0\n",
       "    0    0    0    0    0    0    0    0    0    0]</td><td>[False]</td><td>['NJ']</td><td>['democrat']</td><td>[ True]</td><td>[0]</td><td>['democrat']</td><td>[93]</td></tr></table>"
      ],
      "text/plain": [
       "<IPython.core.display.HTML object>"
      ]
     },
     "metadata": {},
     "output_type": "display_data"
    }
   ],
   "source": [
    "import numpy as np\n",
    "\n",
    "# Find errors in the batch.\n",
    "idx = np.where(x['is_error'].ravel())[0]\n",
    "\n",
    "print idx\n",
    "np.sum(x['is_error'])\n",
    "\n",
    "def examples_by_index(features, indices):\n",
    "    return [dict((k, features[k][idx]) for k in features.keys()) for idx in indices]\n",
    "\n",
    "def html_table(errors, keys=None):\n",
    "    \"\"\" Returns HTML string for a table of the errors.\n",
    "    \n",
    "    Args:\n",
    "        errors: List of dictionaries. All elements of dictionaries will be represented\n",
    "                as strings in the table.\n",
    "        keys: Keys from the dictionaries that should be shown. If None, will use keys\n",
    "              from first element of the |errors|.\n",
    "\n",
    "    Returns:\n",
    "        Valid HTML string.\n",
    "    \"\"\"\n",
    "    if not errors:\n",
    "        return \"\"\n",
    "\n",
    "    keys = keys or errors[0].keys()\n",
    "    s = \"<table>\"\n",
    "    s += \"<tr><th>\" + \"</th><th>\".join(keys) + \"</th></tr>\"\n",
    "    row_template = \"<tr><td>\"+\"</td><td>\".join(\"{\"+key+\"}\" for key in keys) + \"</td></tr>\"\n",
    "    s += \"\".join(row_template.format(**error) for error in errors)\n",
    "    s += \"</table>\"\n",
    "    return s\n",
    "\n",
    "from IPython.display import HTML, display\n",
    "def show_table(errors):\n",
    "    display(HTML(html_table(errors)))\n",
    "\n",
    "show_table(examples_by_index(x, idx))"
   ]
  }
 ],
 "metadata": {
  "kernelspec": {
   "display_name": "Python 2",
   "language": "python",
   "name": "python2"
  },
  "language_info": {
   "codemirror_mode": {
    "name": "ipython",
    "version": 2
   },
   "file_extension": ".py",
   "mimetype": "text/x-python",
   "name": "python",
   "nbconvert_exporter": "python",
   "pygments_lexer": "ipython2",
   "version": "2.7.6"
  }
 },
 "nbformat": 4,
 "nbformat_minor": 0
}
