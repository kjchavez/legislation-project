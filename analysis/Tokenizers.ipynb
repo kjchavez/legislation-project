{
 "cells": [
  {
   "cell_type": "code",
   "execution_count": 25,
   "metadata": {
    "collapsed": true
   },
   "outputs": [],
   "source": [
    "import codecs\n",
    "\n",
    "with codecs.open('/home/kevin/projects/legislation-project/uscode_text/usc01.txt', encoding='utf-8') as fp:\n",
    "    text = fp.read()"
   ]
  },
  {
   "cell_type": "code",
   "execution_count": 30,
   "metadata": {
    "collapsed": false
   },
   "outputs": [
    {
     "name": "stdout",
     "output_type": "stream",
     "text": [
      "== START ORIGINAL TEXT ==\n",
      "Subsec. (c)(1). Pub. L. 108–88, § 10(b)(1), redesignated par. (8) as (1), substituted “with respect to fiscal year 2004—” for “with respect to fiscal year 2004”, added subpars. (A) and (B), redesignated remaining provisions of par. (1) as subpar. (C), and struck out former par. (1), which defined “discretionary spending limit” with respect to fiscal year 1997.\n",
      "== END ORIGINAL TEXT ==\n",
      "\n",
      "space_tokenize\n",
      "--------------\n",
      "Subsec.|(c)(1).|Pub.|L.|108–88,|§|10(b)(1),|redesignated|par.|(8)|as|(1),|substituted|“with|respect|to|fiscal|year|2004—”|for|“with|respect|to|fiscal|year|2004”,|added|subpars.|(A)|and|(B),|redesignated|remaining|provisions|of|par.|(1)|as|subpar.|(C),|and|struck|out|former|par.|(1),|which|defined|“discretionary|spending|limit”|with|respect|to|fiscal|year|1997.\n",
      "\n",
      "tokenize\n",
      "--------\n",
      "Subsec|.|(|c|)(|1|).|Pub|.|L|.|108|–|88|,|§|10|(|b|)(|1|),|redesignated|par|.|(|8|)|as|(|1|),|substituted|“|with|respect|to|fiscal|year|2004|—”|for|“|with|respect|to|fiscal|year|2004|”,|added|subpars|.|(|A|)|and|(|B|),|redesignated|remaining|provisions|of|par|.|(|1|)|as|subpar|.|(|C|),|and|struck|out|former|par|.|(|1|),|which|defined|“|discretionary|spending|limit|”|with|respect|to|fiscal|year|1997|.\n",
      "\n",
      "word_tokenize\n",
      "-------------\n",
      "Subsec|.|(|c|)|(|1|)|.|Pub|.|L.|108–88|,|§|10|(|b|)|(|1|)|,|redesignated|par|.|(|8|)|as|(|1|)|,|substituted|“with|respect|to|fiscal|year|2004—”|for|“with|respect|to|fiscal|year|2004”|,|added|subpars|.|(|A|)|and|(|B|)|,|redesignated|remaining|provisions|of|par|.|(|1|)|as|subpar|.|(|C|)|,|and|struck|out|former|par|.|(|1|)|,|which|defined|“discretionary|spending|limit”|with|respect|to|fiscal|year|1997|.\n",
      "\n"
     ]
    }
   ],
   "source": [
    "from tokenizer import tokenize as tokenize_slow\n",
    "from nltk.tokenize import wordpunct_tokenize\n",
    "from nltk.tokenize import word_tokenize\n",
    "\n",
    "def space_tokenize(text):\n",
    "    return text.split()\n",
    "\n",
    "def compare_tokenizers(text, tokenizers):\n",
    "    print \"== START ORIGINAL TEXT ==\"\n",
    "    print text\n",
    "    print \"== END ORIGINAL TEXT ==\\n\"\n",
    "    for t in tokenizers:\n",
    "        print t.func_name\n",
    "        print \"-\"*len(t.func_name)\n",
    "        print '|'.join(t(text))\n",
    "        print\n",
    "        \n",
    "\n",
    "test = u'Subsec. (c)(1). Pub. L. 108–88, § 10(b)(1), redesignated par. (8) as (1), substituted “with respect to fiscal year 2004—” for “with respect to fiscal year 2004”, added subpars. (A) and (B), redesignated remaining provisions of par. (1) as subpar. (C), and struck out former par. (1), which defined “discretionary spending limit” with respect to fiscal year 1997.'\n",
    "\n",
    "compare_tokenizers(test, [space_tokenize, wordpunct_tokenize, word_tokenize])"
   ]
  },
  {
   "cell_type": "markdown",
   "metadata": {},
   "source": [
    "**Conclusion:**\n",
    "Use nltk.tokenizer.wordpunct_tokenize. Even though it has trouble with side-by-side non-ascii punctuation."
   ]
  }
 ],
 "metadata": {
  "kernelspec": {
   "display_name": "Python 2",
   "language": "python",
   "name": "python2"
  },
  "language_info": {
   "codemirror_mode": {
    "name": "ipython",
    "version": 2
   },
   "file_extension": ".py",
   "mimetype": "text/x-python",
   "name": "python",
   "nbconvert_exporter": "python",
   "pygments_lexer": "ipython2",
   "version": "2.7.6"
  }
 },
 "nbformat": 4,
 "nbformat_minor": 0
}
